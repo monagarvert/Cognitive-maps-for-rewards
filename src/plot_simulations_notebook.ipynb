{
 "cells": [
  {
   "cell_type": "code",
   "execution_count": null,
   "metadata": {},
   "outputs": [],
   "source": [
    "import matplotlib\n",
    "import numpy as np\n",
    "import pandas as pd\n",
    "\n",
    "euc_sim = pd.read_csv(\"model_simulations/simulations/euclidean_sim.csv\")\n",
    "euc_op_sim =pd.read_csv(\"model_simulations/simulations/euclidean_sim_optimized.csv\")\n",
    "MT_sim = pd.read_csv(\"model_simulations/simulations/mean_tracker_sim.csv\")\n",
    "sr_gp_sim = pd.read_csv(\"model_simulations/simulations/sr_gp_sim.csv\")\n",
    "sr_gp_sim_op = pd.read_csv(\"model_simulations/simulations/sr_gp_sim_optimized.csv\")\n",
    "comp_sim = pd.read_csv(\"model_simulations/simulations/compositional_sim.csv\")\n",
    "\n",
    "\n",
    "datasets = [euc_sim, euc_op_sim, MT_sim, sr_gp_sim, sr_gp_sim_op, comp_sim]\n",
    "labels = [\"Euclidean\", \"Euclidean Optimized\", \"Mean tracker\", \"Temporal\", \"Temporal_optimized\", \"Compositional\"]\n",
    "\n",
    "T = np.arange(1, 101)\n",
    "\n",
    "#f1, ax1 = plt.subplots(1, 1)\n",
    "#f2, ax2 = plt.subplots(1, 1)\n",
    "for d, label in zip(datasets, labels):\n",
    "    R = np.array(d[\"regret\"])\n",
    "    R = R.reshape(48, 100)\n",
    "    R = np.cumsum(R, axis=1)\n",
    "    R = R/T\n",
    "    R = np.mean(R, axis=0)\n",
    "    \n",
    "    plt.plot(T, R, label=label)\n",
    "\n",
    "    # rpe = np.array(d[\"RPE\"])\n",
    "    # rpe = rpe.reshape(48, 100)\n",
    "    # rpe = ((rpe)**2)\n",
    "    # rpe = np.cumsum(rpe, axis=1)\n",
    "    # rpe = np.mean(rpe, axis=0)\n",
    "    # plt.plot(T[15:], rpe[15:], label=label)\n",
    "\n",
    "plt.legend()\n",
    "plt.show()\n"
   ]
  }
 ],
 "metadata": {
  "kernelspec": {
   "display_name": "Python 3",
   "language": "python",
   "name": "python3"
  },
  "language_info": {
   "codemirror_mode": {
    "name": "ipython",
    "version": 3
   },
   "file_extension": ".py",
   "mimetype": "text/x-python",
   "name": "python",
   "nbconvert_exporter": "python",
   "pygments_lexer": "ipython3",
   "version": "3.6.9"
  }
 },
 "nbformat": 4,
 "nbformat_minor": 4
}
